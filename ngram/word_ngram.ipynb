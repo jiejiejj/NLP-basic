{
 "cells": [
  {
   "cell_type": "code",
   "execution_count": 1,
   "metadata": {},
   "outputs": [
    {
     "name": "stdout",
     "output_type": "stream",
     "text": [
      "Available books: ['austen-emma.txt', 'austen-persuasion.txt', 'austen-sense.txt', 'bible-kjv.txt', 'blake-poems.txt', 'bryant-stories.txt', 'burgess-busterbrown.txt', 'carroll-alice.txt', 'chesterton-ball.txt', 'chesterton-brown.txt', 'chesterton-thursday.txt', 'edgeworth-parents.txt', 'melville-moby_dick.txt', 'milton-paradise.txt', 'shakespeare-caesar.txt', 'shakespeare-hamlet.txt', 'shakespeare-macbeth.txt', 'whitman-leaves.txt']\n"
     ]
    },
    {
     "name": "stderr",
     "output_type": "stream",
     "text": [
      "[nltk_data] Downloading package gutenberg to\n",
      "[nltk_data]     /Users/taohuadao/nltk_data...\n",
      "[nltk_data]   Package gutenberg is already up-to-date!\n"
     ]
    }
   ],
   "source": [
    "import random\n",
    "import numpy as np\n",
    "import matplotlib.pyplot as plt\n",
    "import nltk\n",
    "nltk.download('gutenberg')\n",
    "\n",
    "from nltk.corpus import gutenberg\n",
    "print(\"Available books:\", gutenberg.fileids())"
   ]
  },
  {
   "cell_type": "code",
   "execution_count": 2,
   "metadata": {},
   "outputs": [
    {
     "name": "stdout",
     "output_type": "stream",
     "text": [
      "2135400 words loaded.\n",
      "41487 unique words.\n"
     ]
    }
   ],
   "source": [
    "word_data = [word.lower() for word in gutenberg.words(gutenberg.fileids()) if word.isalpha()]\n",
    "print(f'{len(word_data)} words loaded.')\n",
    "words = set(word_data)\n",
    "print(f'{len(words)} unique words.')"
   ]
  },
  {
   "cell_type": "code",
   "execution_count": 3,
   "metadata": {},
   "outputs": [
    {
     "name": "stdout",
     "output_type": "stream",
     "text": [
      "50 sample words:\n",
      "['compleat', 'embarrassing', 'furthermore', 'retribution', 'appalling', 'hee', 'chime', 'bringer', 'busybodies', 'handstaves', 'vertically', 'intents', 'mocketh', 'baalberith', 'yield', 'walter', 'asthmatic', 'pigeon', 'cohort', 'spoiler', 'consent', 'lower', 'vnseam', 'jist', 'professor', 'volunteered', 'sloppy', 'informidable', 'migdalel', 'rechab', 'raleigh', 'fairyland', 'harville', 'behindhand', 'kneadingtroughs', 'ilai', 'stopper', 'contain', 'stonest', 'vacancy', 'slily', 'arctic', 'command', 'couched', 'disputable', 'hangings', 'alienated', 'shophach', 'unmeasured', 'objected']\n"
     ]
    }
   ],
   "source": [
    "num = 50\n",
    "print(f'{num} sample words:')\n",
    "print(random.choices(list(words), k = num))"
   ]
  },
  {
   "cell_type": "code",
   "execution_count": 4,
   "metadata": {},
   "outputs": [
    {
     "name": "stderr",
     "output_type": "stream",
     "text": [
      "/var/folders/f7/_5pz8dhj69z82qchj0w82tgw0000gn/T/ipykernel_43088/141877790.py:20: UserWarning: Matplotlib is currently using module://matplotlib_inline.backend_inline, which is a non-GUI backend, so cannot show the figure.\n",
      "  fig.show()\n"
     ]
    },
    {
     "data": {
      "image/png": "[encoded data removed]",
      "text/plain": [
       "<Figure size 1200x300 with 2 Axes>"
      ]
     },
     "metadata": {
      "needs_background": "light"
     },
     "output_type": "display_data"
    }
   ],
   "source": [
    "bar_num = 18\n",
    "lengths = np.arange(1, bar_num + 1)\n",
    "counts, _ = np.histogram([len(word) for word in word_data], bins = np.arange(1, bar_num + 2))\n",
    "unique_counts, _ = np.histogram([len(word) for word in words], bins = np.arange(1, bar_num + 2))\n",
    "\n",
    "fig = plt.figure(figsize = (12, 3), dpi = 100)\n",
    "ax = fig.subplots(1, 2)\n",
    "ax[0].bar(lengths, counts, width = 1)\n",
    "ax[0].set_xticks(lengths)\n",
    "ax[0].set_title(\"Length of words in the dataset\")\n",
    "ax[0].set_xlabel(\"word length\")\n",
    "ax[0].set_ylabel(\"number of words\")\n",
    "\n",
    "ax[1].bar(lengths, unique_counts, width = 1)\n",
    "ax[1].set_xticks(lengths)\n",
    "ax[1].set_title(\"Length of unique words in the dataset\")\n",
    "ax[1].set_xlabel(\"word length\")\n",
    "ax[1].set_ylabel(\"number of words\")\n",
    "\n",
    "fig.show()"
   ]
  },
  {
   "cell_type": "code",
   "execution_count": 5,
   "metadata": {},
   "outputs": [],
   "source": [
    "from word_ngram import NGramModel"
   ]
  },
  {
   "cell_type": "code",
   "execution_count": 6,
   "metadata": {},
   "outputs": [
    {
     "ename": "NameError",
     "evalue": "name 'austen_data' is not defined",
     "output_type": "error",
     "traceback": [
      "\u001b[0;31m---------------------------------------------------------------------------\u001b[0m",
      "\u001b[0;31mNameError\u001b[0m                                 Traceback (most recent call last)",
      "\u001b[0;32m/var/folders/f7/_5pz8dhj69z82qchj0w82tgw0000gn/T/ipykernel_43088/1907667107.py\u001b[0m in \u001b[0;36m<module>\u001b[0;34m\u001b[0m\n\u001b[0;32m----> 1\u001b[0;31m \u001b[0mprint\u001b[0m\u001b[0;34m(\u001b[0m\u001b[0mausten_data\u001b[0m\u001b[0;34m[\u001b[0m\u001b[0;34m:\u001b[0m\u001b[0;36m100\u001b[0m\u001b[0;34m]\u001b[0m\u001b[0;34m)\u001b[0m\u001b[0;34m\u001b[0m\u001b[0;34m\u001b[0m\u001b[0m\n\u001b[0m",
      "\u001b[0;31mNameError\u001b[0m: name 'austen_data' is not defined"
     ]
    }
   ],
   "source": [
    "print(austen_data[:100])"
   ]
  },
  {
   "cell_type": "code",
   "execution_count": null,
   "metadata": {},
   "outputs": [],
   "source": [
    "austen_data = gutenberg.words(['austen-emma.txt', 'austen-persuasion.txt', 'austen-sense.txt'])\n",
    "model = NGramModel(austen_data, 1)\n",
    "\n",
    "print(\"Model:\", model)\n",
    "\n",
    "pred = model.predict_sequence(10)\n",
    "print(\" \".join(pred))"
   ]
  },
  {
   "cell_type": "code",
   "execution_count": null,
   "metadata": {},
   "outputs": [],
   "source": [
    "pred"
   ]
  }
 ],
 "metadata": {
  "kernelspec": {
   "display_name": "daily",
   "language": "python",
   "name": "daily"
  },
  "language_info": {
   "codemirror_mode": {
    "name": "ipython",
    "version": 3
   },
   "file_extension": ".py",
   "mimetype": "text/x-python",
   "name": "python",
   "nbconvert_exporter": "python",
   "pygments_lexer": "ipython3",
   "version": "3.8.12"
  }
 },
 "nbformat": 4,
 "nbformat_minor": 2
}
